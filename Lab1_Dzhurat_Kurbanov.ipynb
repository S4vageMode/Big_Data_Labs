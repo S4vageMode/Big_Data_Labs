{
 "cells": [
  {
   "cell_type": "markdown",
   "source": [
    "# Dzhurat Kurbanov AIN-1-21"
   ],
   "metadata": {
    "collapsed": false
   }
  },
  {
   "cell_type": "code",
   "execution_count": 9,
   "outputs": [
    {
     "name": "stdout",
     "output_type": "stream",
     "text": [
      "Hello\n"
     ]
    }
   ],
   "source": [
    "print(\"Hello\")"
   ],
   "metadata": {
    "collapsed": false
   }
  },
  {
   "cell_type": "raw",
   "source": [
    "# Raw NBConvert\n",
    "45 + 59\n"
   ],
   "metadata": {
    "collapsed": false
   }
  },
  {
   "cell_type": "markdown",
   "source": [
    "# Getting start with Jupyter Python\n",
    "\n",
    "## We have done\n",
    "* Install [Python](https://www.python.org/downloads/) 3.10\n",
    "* Install Jupyter  Python is PyCharm"
   ],
   "metadata": {
    "collapsed": false
   }
  },
  {
   "cell_type": "code",
   "execution_count": 51,
   "outputs": [],
   "source": [
    "print?"
   ],
   "metadata": {
    "collapsed": false
   }
  },
  {
   "cell_type": "code",
   "execution_count": 52,
   "outputs": [],
   "source": [
    "i=2"
   ],
   "metadata": {
    "collapsed": false
   }
  },
  {
   "cell_type": "code",
   "execution_count": 60,
   "outputs": [
    {
     "name": "stdout",
     "output_type": "stream",
     "text": [
      "2\n"
     ]
    }
   ],
   "source": [
    "print (i)\n"
   ],
   "metadata": {
    "collapsed": false
   }
  },
  {
   "cell_type": "code",
   "execution_count": 13,
   "outputs": [],
   "source": [
    "c = i + 10\n"
   ],
   "metadata": {
    "collapsed": false
   }
  },
  {
   "cell_type": "code",
   "execution_count": 14,
   "outputs": [
    {
     "name": "stdout",
     "output_type": "stream",
     "text": [
      "12\n"
     ]
    }
   ],
   "source": [
    "print(c)"
   ],
   "metadata": {
    "collapsed": false
   }
  },
  {
   "cell_type": "code",
   "execution_count": 15,
   "outputs": [
    {
     "name": "stdout",
     "output_type": "stream",
     "text": [
      "<class 'int'>\n"
     ]
    }
   ],
   "source": [
    "a=8\n",
    "t=type(a)\n",
    "print(t)"
   ],
   "metadata": {
    "collapsed": false
   }
  },
  {
   "cell_type": "code",
   "execution_count": 16,
   "outputs": [],
   "source": [
    "i = 4 # int"
   ],
   "metadata": {
    "collapsed": false
   }
  },
  {
   "cell_type": "code",
   "execution_count": 17,
   "outputs": [
    {
     "data": {
      "text/plain": "int"
     },
     "execution_count": 17,
     "metadata": {},
     "output_type": "execute_result"
    }
   ],
   "source": [
    "type(i)"
   ],
   "metadata": {
    "collapsed": false
   }
  },
  {
   "cell_type": "code",
   "execution_count": 18,
   "outputs": [],
   "source": [
    "f = 4.1 # float"
   ],
   "metadata": {
    "collapsed": false
   }
  },
  {
   "cell_type": "code",
   "execution_count": 19,
   "outputs": [
    {
     "data": {
      "text/plain": "float"
     },
     "execution_count": 19,
     "metadata": {},
     "output_type": "execute_result"
    }
   ],
   "source": [
    "type(f)"
   ],
   "metadata": {
    "collapsed": false
   }
  },
  {
   "cell_type": "code",
   "execution_count": 20,
   "outputs": [],
   "source": [
    "b = True # bool"
   ],
   "metadata": {
    "collapsed": false
   }
  },
  {
   "cell_type": "code",
   "execution_count": 21,
   "outputs": [],
   "source": [
    "s = \"This is string\" # str"
   ],
   "metadata": {
    "collapsed": false
   }
  },
  {
   "cell_type": "code",
   "execution_count": 22,
   "outputs": [
    {
     "name": "stdout",
     "output_type": "stream",
     "text": [
      "This is string\n"
     ]
    }
   ],
   "source": [
    "print(s)"
   ],
   "metadata": {
    "collapsed": false
   }
  },
  {
   "cell_type": "markdown",
   "source": [
    "# Advanced python types"
   ],
   "metadata": {
    "collapsed": false
   }
  },
  {
   "cell_type": "code",
   "execution_count": 23,
   "outputs": [],
   "source": [
    "l = [1, 3, 5]"
   ],
   "metadata": {
    "collapsed": false
   }
  },
  {
   "cell_type": "code",
   "execution_count": 24,
   "outputs": [
    {
     "name": "stdout",
     "output_type": "stream",
     "text": [
      "[1, 3, 5]\n"
     ]
    }
   ],
   "source": [
    "print(l)"
   ],
   "metadata": {
    "collapsed": false
   }
  },
  {
   "cell_type": "code",
   "execution_count": 25,
   "outputs": [],
   "source": [
    "d = {'b':4, 'a':7}"
   ],
   "metadata": {
    "collapsed": false
   }
  },
  {
   "cell_type": "code",
   "execution_count": 26,
   "outputs": [
    {
     "name": "stdout",
     "output_type": "stream",
     "text": [
      "{'b': 4, 'a': 7}\n"
     ]
    }
   ],
   "source": [
    "print(d)"
   ],
   "metadata": {
    "collapsed": false
   }
  },
  {
   "cell_type": "code",
   "execution_count": 27,
   "outputs": [
    {
     "name": "stdout",
     "output_type": "stream",
     "text": [
      "4\n"
     ]
    }
   ],
   "source": [
    "print(d['b'])"
   ],
   "metadata": {
    "collapsed": false
   }
  },
  {
   "cell_type": "code",
   "execution_count": 28,
   "outputs": [],
   "source": [
    "n = None"
   ],
   "metadata": {
    "collapsed": false
   }
  },
  {
   "cell_type": "code",
   "execution_count": 29,
   "outputs": [
    {
     "name": "stdout",
     "output_type": "stream",
     "text": [
      "None\n"
     ]
    }
   ],
   "source": [
    "print(n)"
   ],
   "metadata": {
    "collapsed": false
   }
  },
  {
   "cell_type": "code",
   "execution_count": 30,
   "outputs": [],
   "source": [
    "import math\n",
    "p=math.pow(5,2)"
   ],
   "metadata": {
    "collapsed": false
   }
  },
  {
   "cell_type": "code",
   "execution_count": 31,
   "outputs": [
    {
     "name": "stdout",
     "output_type": "stream",
     "text": [
      "Возведение числа 5 в квадрат = 25.0\n"
     ]
    }
   ],
   "source": [
    "print(f\"Возведение числа 5 в квадрат = {p}\")"
   ],
   "metadata": {
    "collapsed": false
   }
  },
  {
   "cell_type": "markdown",
   "source": [
    "# Advanced Printing"
   ],
   "metadata": {
    "collapsed": false
   }
  },
  {
   "cell_type": "code",
   "execution_count": 32,
   "outputs": [
    {
     "name": "stdout",
     "output_type": "stream",
     "text": [
      "Out first value is 7. Our second value is False.\n"
     ]
    }
   ],
   "source": [
    "i = 7\n",
    "n = False\n",
    "print(f\"Out first value is {i}. Our second value is {n}.\")\n"
   ],
   "metadata": {
    "collapsed": false
   }
  },
  {
   "cell_type": "code",
   "execution_count": 33,
   "outputs": [
    {
     "name": "stdout",
     "output_type": "stream",
     "text": [
      "i or f > 4\n"
     ]
    }
   ],
   "source": [
    "i = 7\n",
    "f = 4.12\n",
    "if i == 1 and f > 4:\n",
    "    print(\"Value of i is 1 and f > 4\")\n",
    "elif i > 4 or f > 4:\n",
    "    print(\"i or f > 4\")\n",
    "else:\n",
    "    print(\"both i and f are less than 4\")"
   ],
   "metadata": {
    "collapsed": false
   }
  },
  {
   "cell_type": "code",
   "execution_count": 34,
   "outputs": [
    {
     "name": "stdout",
     "output_type": "stream",
     "text": [
      "[1, 2, 3, 4]\n"
     ]
    }
   ],
   "source": [
    "l = [1,2,3,4]\n",
    "print(l)"
   ],
   "metadata": {
    "collapsed": false
   }
  },
  {
   "cell_type": "code",
   "execution_count": 35,
   "outputs": [
    {
     "name": "stdout",
     "output_type": "stream",
     "text": [
      "1\n",
      "2\n",
      "3\n",
      "4\n"
     ]
    }
   ],
   "source": [
    "for e in l:\n",
    "    print(e)"
   ],
   "metadata": {
    "collapsed": false
   }
  },
  {
   "cell_type": "code",
   "execution_count": 36,
   "outputs": [
    {
     "name": "stdout",
     "output_type": "stream",
     "text": [
      "Числа от 0 до 99: 0\n",
      "Числа от 0 до 99: 1\n",
      "Числа от 0 до 99: 2\n",
      "Числа от 0 до 99: 3\n",
      "Числа от 0 до 99: 4\n",
      "Числа от 0 до 99: 5\n",
      "Числа от 0 до 99: 6\n",
      "Числа от 0 до 99: 7\n",
      "Числа от 0 до 99: 8\n",
      "Числа от 0 до 99: 9\n",
      "Числа от 0 до 99: 10\n",
      "Числа от 0 до 99: 11\n",
      "Числа от 0 до 99: 12\n",
      "Числа от 0 до 99: 13\n",
      "Числа от 0 до 99: 14\n",
      "Числа от 0 до 99: 15\n",
      "Числа от 0 до 99: 16\n",
      "Числа от 0 до 99: 17\n",
      "Числа от 0 до 99: 18\n",
      "Числа от 0 до 99: 19\n",
      "Числа от 0 до 99: 20\n",
      "Числа от 0 до 99: 21\n",
      "Числа от 0 до 99: 22\n",
      "Числа от 0 до 99: 23\n",
      "Числа от 0 до 99: 24\n",
      "Числа от 0 до 99: 25\n",
      "Числа от 0 до 99: 26\n",
      "Числа от 0 до 99: 27\n",
      "Числа от 0 до 99: 28\n",
      "Числа от 0 до 99: 29\n",
      "Числа от 0 до 99: 30\n",
      "Числа от 0 до 99: 31\n",
      "Числа от 0 до 99: 32\n",
      "Числа от 0 до 99: 33\n",
      "Числа от 0 до 99: 34\n",
      "Числа от 0 до 99: 35\n",
      "Числа от 0 до 99: 36\n",
      "Числа от 0 до 99: 37\n",
      "Числа от 0 до 99: 38\n",
      "Числа от 0 до 99: 39\n",
      "Числа от 0 до 99: 40\n",
      "Числа от 0 до 99: 41\n",
      "Числа от 0 до 99: 42\n",
      "Числа от 0 до 99: 43\n",
      "Числа от 0 до 99: 44\n",
      "Числа от 0 до 99: 45\n",
      "Числа от 0 до 99: 46\n",
      "Числа от 0 до 99: 47\n",
      "Числа от 0 до 99: 48\n",
      "Числа от 0 до 99: 49\n",
      "Числа от 0 до 99: 50\n",
      "Числа от 0 до 99: 51\n",
      "Числа от 0 до 99: 52\n",
      "Числа от 0 до 99: 53\n",
      "Числа от 0 до 99: 54\n",
      "Числа от 0 до 99: 55\n",
      "Числа от 0 до 99: 56\n",
      "Числа от 0 до 99: 57\n",
      "Числа от 0 до 99: 58\n",
      "Числа от 0 до 99: 59\n",
      "Числа от 0 до 99: 60\n",
      "Числа от 0 до 99: 61\n",
      "Числа от 0 до 99: 62\n",
      "Числа от 0 до 99: 63\n",
      "Числа от 0 до 99: 64\n",
      "Числа от 0 до 99: 65\n",
      "Числа от 0 до 99: 66\n",
      "Числа от 0 до 99: 67\n",
      "Числа от 0 до 99: 68\n",
      "Числа от 0 до 99: 69\n",
      "Числа от 0 до 99: 70\n",
      "Числа от 0 до 99: 71\n",
      "Числа от 0 до 99: 72\n",
      "Числа от 0 до 99: 73\n",
      "Числа от 0 до 99: 74\n",
      "Числа от 0 до 99: 75\n",
      "Числа от 0 до 99: 76\n",
      "Числа от 0 до 99: 77\n",
      "Числа от 0 до 99: 78\n",
      "Числа от 0 до 99: 79\n",
      "Числа от 0 до 99: 80\n",
      "Числа от 0 до 99: 81\n",
      "Числа от 0 до 99: 82\n",
      "Числа от 0 до 99: 83\n",
      "Числа от 0 до 99: 84\n",
      "Числа от 0 до 99: 85\n",
      "Числа от 0 до 99: 86\n",
      "Числа от 0 до 99: 87\n",
      "Числа от 0 до 99: 88\n",
      "Числа от 0 до 99: 89\n",
      "Числа от 0 до 99: 90\n",
      "Числа от 0 до 99: 91\n",
      "Числа от 0 до 99: 92\n",
      "Числа от 0 до 99: 93\n",
      "Числа от 0 до 99: 94\n",
      "Числа от 0 до 99: 95\n",
      "Числа от 0 до 99: 96\n",
      "Числа от 0 до 99: 97\n",
      "Числа от 0 до 99: 98\n"
     ]
    }
   ],
   "source": [
    "for n in range(99):\n",
    "    print(f\"Числа от 0 до 99: {n}\")"
   ],
   "metadata": {
    "collapsed": false
   }
  },
  {
   "cell_type": "code",
   "execution_count": 37,
   "outputs": [],
   "source": [
    "import time"
   ],
   "metadata": {
    "collapsed": false
   }
  },
  {
   "cell_type": "code",
   "execution_count": 38,
   "outputs": [
    {
     "name": "stdout",
     "output_type": "stream",
     "text": [
      "число:  0\n",
      "число:  1\n",
      "число:  2\n",
      "число:  3\n",
      "число:  4\n",
      "число:  5\n",
      "число:  6\n",
      "число:  7\n",
      "число:  8\n",
      "число:  9\n",
      "число:  10\n",
      "число:  11\n"
     ]
    }
   ],
   "source": [
    "for n in range(12):\n",
    "    time.sleep(1)\n",
    "    print(\"число: \", n)"
   ],
   "metadata": {
    "collapsed": false
   }
  },
  {
   "cell_type": "code",
   "execution_count": 39,
   "outputs": [
    {
     "name": "stdout",
     "output_type": "stream",
     "text": [
      "3\n",
      "4\n",
      "5\n",
      "6\n",
      "7\n",
      "8\n",
      "9\n"
     ]
    }
   ],
   "source": [
    "c = 3\n",
    "while c < 10:\n",
    "    print(c)\n",
    "    c+=1"
   ],
   "metadata": {
    "collapsed": false
   }
  },
  {
   "cell_type": "markdown",
   "source": [
    "# Functions"
   ],
   "metadata": {
    "collapsed": false
   }
  },
  {
   "cell_type": "code",
   "execution_count": 40,
   "outputs": [],
   "source": [
    "def add2(x):\n",
    "    y = x + 2\n",
    "    return y"
   ],
   "metadata": {
    "collapsed": false
   }
  },
  {
   "cell_type": "code",
   "execution_count": 41,
   "outputs": [],
   "source": [
    "i = 2"
   ],
   "metadata": {
    "collapsed": false
   }
  },
  {
   "cell_type": "code",
   "execution_count": 42,
   "outputs": [
    {
     "data": {
      "text/plain": "4"
     },
     "execution_count": 42,
     "metadata": {},
     "output_type": "execute_result"
    }
   ],
   "source": [
    "add2(i)"
   ],
   "metadata": {
    "collapsed": false
   }
  },
  {
   "cell_type": "code",
   "execution_count": 43,
   "outputs": [],
   "source": [
    "square = lambda x: x**3"
   ],
   "metadata": {
    "collapsed": false
   }
  },
  {
   "cell_type": "code",
   "execution_count": 44,
   "outputs": [
    {
     "data": {
      "text/plain": "27"
     },
     "execution_count": 44,
     "metadata": {},
     "output_type": "execute_result"
    }
   ],
   "source": [
    "square(3)"
   ],
   "metadata": {
    "collapsed": false
   }
  },
  {
   "cell_type": "code",
   "execution_count": 45,
   "outputs": [],
   "source": [
    "x = lambda a,b: a*b+2"
   ],
   "metadata": {
    "collapsed": false
   }
  },
  {
   "cell_type": "code",
   "execution_count": 46,
   "outputs": [
    {
     "name": "stdout",
     "output_type": "stream",
     "text": [
      "10\n"
     ]
    }
   ],
   "source": [
    "print(x(4,2))"
   ],
   "metadata": {
    "collapsed": false
   }
  },
  {
   "cell_type": "code",
   "execution_count": 47,
   "outputs": [],
   "source": [
    "x = lambda a,b,c: a+b+c"
   ],
   "metadata": {
    "collapsed": false
   }
  },
  {
   "cell_type": "code",
   "execution_count": 48,
   "outputs": [
    {
     "name": "stdout",
     "output_type": "stream",
     "text": [
      "6\n"
     ]
    }
   ],
   "source": [
    "print(x(1,3,2))"
   ],
   "metadata": {
    "collapsed": false
   }
  },
  {
   "cell_type": "markdown",
   "source": [
    "<h1>Dzhurat</h1>\n",
    "<h2>Dzhurat</h2>\n",
    "<h3>Dzhurat</h3>\n",
    "<h4>Dzhurat</h4>\n",
    "<h5>Dzhurat</h5>\n",
    "<h6>Dzhurat</h6>"
   ],
   "metadata": {
    "collapsed": false
   }
  },
  {
   "cell_type": "code",
   "execution_count": 48,
   "outputs": [],
   "source": [],
   "metadata": {
    "collapsed": false
   }
  },
  {
   "cell_type": "markdown",
   "source": [
    "<img src=https://lms.inai.kg/FileStorage/setting/UserProfile/376.png width=\"450\">"
   ],
   "metadata": {
    "collapsed": false
   }
  },
  {
   "cell_type": "markdown",
   "source": [
    "\\begin{equation*}\n",
    "\\left(sum_{k=1}^n a_k b_k\\right)^2\n",
    "\\end{equation*}"
   ],
   "metadata": {
    "collapsed": false
   }
  },
  {
   "cell_type": "markdown",
   "source": [
    "\\begin{equation*}\n",
    "\\(E=mc^2\\)\n",
    "\\end{equation*}"
   ],
   "metadata": {
    "collapsed": false
   }
  },
  {
   "cell_type": "markdown",
   "source": [
    "# Console Commands"
   ],
   "metadata": {
    "collapsed": false
   }
  },
  {
   "cell_type": "code",
   "execution_count": 61,
   "outputs": [
    {
     "name": "stdout",
     "output_type": "stream",
     "text": [
      "usage: ipconfig <command> <args>\r\n",
      "where <command> is one of waitall, getifaddr, ifcount, getoption, getiflist, getsummary, getpacket, getv6packet, getra, getdhcpduid, getdhcpiaid, set, setverbose\r\n"
     ]
    }
   ],
   "source": [
    "! ipconfig"
   ],
   "metadata": {
    "collapsed": false
   }
  },
  {
   "cell_type": "code",
   "execution_count": 50,
   "outputs": [
    {
     "name": "stdout",
     "output_type": "stream",
     "text": [
      "64 bytes from 104.17.63.50: icmp_seq=294 ttl=57 time=45.173 ms\r\n",
      "64 bytes from 104.17.63.50: icmp_seq=295 ttl=57 time=63.436 ms\r\n",
      "64 bytes from 104.17.63.50: icmp_seq=296 ttl=57 time=45.543 ms\r\n",
      "64 bytes from 104.17.63.50: icmp_seq=297 ttl=57 time=45.517 ms\r\n",
      "64 bytes from 104.17.63.50: icmp_seq=298 ttl=57 time=74.098 ms\r\n",
      "64 bytes from 104.17.63.50: icmp_seq=299 ttl=57 time=120.779 ms\r\n",
      "64 bytes from 104.17.63.50: icmp_seq=300 ttl=57 time=367.624 ms\r\n",
      "64 bytes from 104.17.63.50: icmp_seq=301 ttl=57 time=210.792 ms\r\n",
      "64 bytes from 104.17.63.50: icmp_seq=302 ttl=57 time=259.104 ms\r\n",
      "64 bytes from 104.17.63.50: icmp_seq=303 ttl=57 time=285.286 ms\r\n",
      "64 bytes from 104.17.63.50: icmp_seq=304 ttl=57 time=44.914 ms\r\n",
      "64 bytes from 104.17.63.50: icmp_seq=305 ttl=57 time=45.885 ms\r\n",
      "64 bytes from 104.17.63.50: icmp_seq=306 ttl=57 time=44.713 ms\r\n",
      "64 bytes from 104.17.63.50: icmp_seq=307 ttl=57 time=55.181 ms\r\n",
      "64 bytes from 104.17.63.50: icmp_seq=308 ttl=57 time=69.414 ms\r\n",
      "64 bytes from 104.17.63.50: icmp_seq=309 ttl=57 time=283.855 ms\r\n",
      "64 bytes from 104.17.63.50: icmp_seq=310 ttl=57 time=267.508 ms\r\n",
      "64 bytes from 104.17.63.50: icmp_seq=311 ttl=57 time=315.785 ms\r\n",
      "64 bytes from 104.17.63.50: icmp_seq=312 ttl=57 time=321.141 ms\r\n",
      "64 bytes from 104.17.63.50: icmp_seq=313 ttl=57 time=257.451 ms\r\n",
      "64 bytes from 104.17.63.50: icmp_seq=314 ttl=57 time=48.378 ms\r\n",
      "64 bytes from 104.17.63.50: icmp_seq=315 ttl=57 time=45.251 ms\r\n",
      "64 bytes from 104.17.63.50: icmp_seq=316 ttl=57 time=45.635 ms\r\n",
      "64 bytes from 104.17.63.50: icmp_seq=317 ttl=57 time=75.315 ms\r\n",
      "64 bytes from 104.17.63.50: icmp_seq=318 ttl=57 time=44.945 ms\r\n",
      "64 bytes from 104.17.63.50: icmp_seq=319 ttl=57 time=56.608 ms\r\n",
      "64 bytes from 104.17.63.50: icmp_seq=320 ttl=57 time=93.549 ms\r\n",
      "64 bytes from 104.17.63.50: icmp_seq=321 ttl=57 time=94.820 ms\r\n",
      "64 bytes from 104.17.63.50: icmp_seq=322 ttl=57 time=139.556 ms\r\n",
      "64 bytes from 104.17.63.50: icmp_seq=323 ttl=57 time=187.262 ms\r\n",
      "64 bytes from 104.17.63.50: icmp_seq=324 ttl=57 time=100.527 ms\r\n",
      "64 bytes from 104.17.63.50: icmp_seq=325 ttl=57 time=51.392 ms\r\n",
      "64 bytes from 104.17.63.50: icmp_seq=326 ttl=57 time=45.600 ms\r\n",
      "64 bytes from 104.17.63.50: icmp_seq=327 ttl=57 time=122.084 ms\r\n",
      "64 bytes from 104.17.63.50: icmp_seq=328 ttl=57 time=45.512 ms\r\n",
      "64 bytes from 104.17.63.50: icmp_seq=329 ttl=57 time=50.408 ms\r\n",
      "64 bytes from 104.17.63.50: icmp_seq=330 ttl=57 time=45.328 ms\r\n",
      "64 bytes from 104.17.63.50: icmp_seq=331 ttl=57 time=77.680 ms\r\n",
      "64 bytes from 104.17.63.50: icmp_seq=332 ttl=57 time=121.769 ms\r\n",
      "64 bytes from 104.17.63.50: icmp_seq=333 ttl=57 time=168.021 ms\r\n",
      "64 bytes from 104.17.63.50: icmp_seq=334 ttl=57 time=214.732 ms\r\n",
      "64 bytes from 104.17.63.50: icmp_seq=335 ttl=57 time=458.437 ms\r\n",
      "64 bytes from 104.17.63.50: icmp_seq=336 ttl=57 time=267.517 ms\r\n",
      "64 bytes from 104.17.63.50: icmp_seq=337 ttl=57 time=50.338 ms\r\n",
      "64 bytes from 104.17.63.50: icmp_seq=338 ttl=57 time=45.803 ms\r\n",
      "64 bytes from 104.17.63.50: icmp_seq=339 ttl=57 time=52.307 ms\r\n",
      "64 bytes from 104.17.63.50: icmp_seq=340 ttl=57 time=44.875 ms\r\n",
      "64 bytes from 104.17.63.50: icmp_seq=341 ttl=57 time=47.011 ms\r\n",
      "64 bytes from 104.17.63.50: icmp_seq=342 ttl=57 time=100.785 ms\r\n",
      "64 bytes from 104.17.63.50: icmp_seq=343 ttl=57 time=101.626 ms\r\n",
      "64 bytes from 104.17.63.50: icmp_seq=344 ttl=57 time=343.313 ms\r\n",
      "64 bytes from 104.17.63.50: icmp_seq=345 ttl=57 time=245.842 ms\r\n",
      "64 bytes from 104.17.63.50: icmp_seq=346 ttl=57 time=320.677 ms\r\n",
      "64 bytes from 104.17.63.50: icmp_seq=347 ttl=57 time=116.485 ms\r\n",
      "64 bytes from 104.17.63.50: icmp_seq=348 ttl=57 time=47.414 ms\r\n",
      "64 bytes from 104.17.63.50: icmp_seq=349 ttl=57 time=101.469 ms\r\n",
      "64 bytes from 104.17.63.50: icmp_seq=350 ttl=57 time=45.848 ms\r\n",
      "64 bytes from 104.17.63.50: icmp_seq=351 ttl=57 time=44.649 ms\r\n",
      "64 bytes from 104.17.63.50: icmp_seq=352 ttl=57 time=45.156 ms\r\n",
      "64 bytes from 104.17.63.50: icmp_seq=353 ttl=57 time=226.738 ms\r\n",
      "64 bytes from 104.17.63.50: icmp_seq=354 ttl=57 time=78.041 ms\r\n",
      "64 bytes from 104.17.63.50: icmp_seq=355 ttl=57 time=122.026 ms\r\n",
      "64 bytes from 104.17.63.50: icmp_seq=356 ttl=57 time=165.799 ms\r\n",
      "64 bytes from 104.17.63.50: icmp_seq=357 ttl=57 time=210.005 ms\r\n",
      "64 bytes from 104.17.63.50: icmp_seq=358 ttl=57 time=256.293 ms\r\n",
      "64 bytes from 104.17.63.50: icmp_seq=359 ttl=57 time=255.976 ms\r\n",
      "64 bytes from 104.17.63.50: icmp_seq=360 ttl=57 time=45.247 ms\r\n",
      "64 bytes from 104.17.63.50: icmp_seq=361 ttl=57 time=121.479 ms\r\n",
      "64 bytes from 104.17.63.50: icmp_seq=362 ttl=57 time=109.074 ms\r\n",
      "64 bytes from 104.17.63.50: icmp_seq=363 ttl=57 time=46.132 ms\r\n",
      "64 bytes from 104.17.63.50: icmp_seq=364 ttl=57 time=45.943 ms\r\n",
      "64 bytes from 104.17.63.50: icmp_seq=365 ttl=57 time=45.506 ms\r\n",
      "64 bytes from 104.17.63.50: icmp_seq=366 ttl=57 time=118.540 ms\r\n",
      "64 bytes from 104.17.63.50: icmp_seq=367 ttl=57 time=167.379 ms\r\n",
      "64 bytes from 104.17.63.50: icmp_seq=368 ttl=57 time=172.327 ms\r\n",
      "64 bytes from 104.17.63.50: icmp_seq=369 ttl=57 time=187.223 ms\r\n",
      "64 bytes from 104.17.63.50: icmp_seq=370 ttl=57 time=100.581 ms\r\n",
      "64 bytes from 104.17.63.50: icmp_seq=371 ttl=57 time=338.554 ms\r\n",
      "64 bytes from 104.17.63.50: icmp_seq=372 ttl=57 time=45.755 ms\r\n",
      "64 bytes from 104.17.63.50: icmp_seq=373 ttl=57 time=96.074 ms\r\n",
      "64 bytes from 104.17.63.50: icmp_seq=374 ttl=57 time=45.768 ms\r\n",
      "64 bytes from 104.17.63.50: icmp_seq=375 ttl=57 time=45.520 ms\r\n",
      "64 bytes from 104.17.63.50: icmp_seq=376 ttl=57 time=47.446 ms\r\n",
      "64 bytes from 104.17.63.50: icmp_seq=377 ttl=57 time=66.356 ms\r\n",
      "64 bytes from 104.17.63.50: icmp_seq=378 ttl=57 time=113.069 ms\r\n",
      "64 bytes from 104.17.63.50: icmp_seq=379 ttl=57 time=159.823 ms\r\n",
      "64 bytes from 104.17.63.50: icmp_seq=380 ttl=57 time=399.698 ms\r\n",
      "64 bytes from 104.17.63.50: icmp_seq=381 ttl=57 time=252.516 ms\r\n",
      "64 bytes from 104.17.63.50: icmp_seq=382 ttl=57 time=249.772 ms\r\n",
      "64 bytes from 104.17.63.50: icmp_seq=383 ttl=57 time=45.554 ms\r\n",
      "64 bytes from 104.17.63.50: icmp_seq=384 ttl=57 time=45.150 ms\r\n",
      "64 bytes from 104.17.63.50: icmp_seq=385 ttl=57 time=101.552 ms\r\n",
      "64 bytes from 104.17.63.50: icmp_seq=386 ttl=57 time=45.467 ms\r\n",
      "64 bytes from 104.17.63.50: icmp_seq=387 ttl=57 time=46.649 ms\r\n",
      "64 bytes from 104.17.63.50: icmp_seq=388 ttl=57 time=51.474 ms\r\n",
      "64 bytes from 104.17.63.50: icmp_seq=389 ttl=57 time=293.143 ms\r\n",
      "Request timeout for icmp_seq 390\r\n",
      "64 bytes from 104.17.63.50: icmp_seq=391 ttl=57 time=53.948 ms\r\n",
      "64 bytes from 104.17.63.50: icmp_seq=392 ttl=57 time=66.280 ms\r\n",
      "64 bytes from 104.17.63.50: icmp_seq=393 ttl=57 time=92.939 ms\r\n",
      "64 bytes from 104.17.63.50: icmp_seq=394 ttl=57 time=93.626 ms\r\n",
      "64 bytes from 104.17.63.50: icmp_seq=395 ttl=57 time=137.529 ms\r\n",
      "64 bytes from 104.17.63.50: icmp_seq=396 ttl=57 time=182.849 ms\r\n",
      "64 bytes from 104.17.63.50: icmp_seq=397 ttl=57 time=233.444 ms\r\n",
      "64 bytes from 104.17.63.50: icmp_seq=398 ttl=57 time=238.772 ms\r\n",
      "64 bytes from 104.17.63.50: icmp_seq=399 ttl=57 time=51.102 ms\r\n",
      "64 bytes from 104.17.63.50: icmp_seq=400 ttl=57 time=58.375 ms\r\n",
      "64 bytes from 104.17.63.50: icmp_seq=401 ttl=57 time=56.074 ms\r\n",
      "64 bytes from 104.17.63.50: icmp_seq=402 ttl=57 time=45.302 ms\r\n",
      "64 bytes from 104.17.63.50: icmp_seq=403 ttl=57 time=45.308 ms\r\n",
      "64 bytes from 104.17.63.50: icmp_seq=404 ttl=57 time=62.701 ms\r\n",
      "64 bytes from 104.17.63.50: icmp_seq=405 ttl=57 time=76.232 ms\r\n",
      "64 bytes from 104.17.63.50: icmp_seq=406 ttl=57 time=254.080 ms\r\n",
      "64 bytes from 104.17.63.50: icmp_seq=407 ttl=57 time=140.364 ms\r\n",
      "64 bytes from 104.17.63.50: icmp_seq=408 ttl=57 time=165.323 ms\r\n",
      "64 bytes from 104.17.63.50: icmp_seq=409 ttl=57 time=343.209 ms\r\n",
      "64 bytes from 104.17.63.50: icmp_seq=410 ttl=57 time=268.072 ms\r\n",
      "64 bytes from 104.17.63.50: icmp_seq=411 ttl=57 time=48.621 ms\r\n",
      "64 bytes from 104.17.63.50: icmp_seq=412 ttl=57 time=46.000 ms\r\n",
      "64 bytes from 104.17.63.50: icmp_seq=413 ttl=57 time=45.544 ms\r\n",
      "64 bytes from 104.17.63.50: icmp_seq=414 ttl=57 time=47.191 ms\r\n",
      "64 bytes from 104.17.63.50: icmp_seq=415 ttl=57 time=207.193 ms\r\n",
      "64 bytes from 104.17.63.50: icmp_seq=416 ttl=57 time=90.654 ms\r\n",
      "64 bytes from 104.17.63.50: icmp_seq=417 ttl=57 time=99.493 ms\r\n",
      "64 bytes from 104.17.63.50: icmp_seq=418 ttl=57 time=150.642 ms\r\n",
      "64 bytes from 104.17.63.50: icmp_seq=419 ttl=57 time=195.171 ms\r\n",
      "64 bytes from 104.17.63.50: icmp_seq=420 ttl=57 time=378.270 ms\r\n",
      "64 bytes from 104.17.63.50: icmp_seq=421 ttl=57 time=240.443 ms\r\n",
      "64 bytes from 104.17.63.50: icmp_seq=422 ttl=57 time=46.980 ms\r\n",
      "64 bytes from 104.17.63.50: icmp_seq=423 ttl=57 time=53.883 ms\r\n",
      "64 bytes from 104.17.63.50: icmp_seq=424 ttl=57 time=102.090 ms\r\n",
      "64 bytes from 104.17.63.50: icmp_seq=425 ttl=57 time=44.794 ms\r\n",
      "64 bytes from 104.17.63.50: icmp_seq=426 ttl=57 time=110.753 ms\r\n",
      "64 bytes from 104.17.63.50: icmp_seq=427 ttl=57 time=45.095 ms\r\n",
      "64 bytes from 104.17.63.50: icmp_seq=428 ttl=57 time=79.564 ms\r\n",
      "64 bytes from 104.17.63.50: icmp_seq=429 ttl=57 time=193.169 ms\r\n",
      "64 bytes from 104.17.63.50: icmp_seq=430 ttl=57 time=224.455 ms\r\n",
      "64 bytes from 104.17.63.50: icmp_seq=431 ttl=57 time=250.389 ms\r\n",
      "64 bytes from 104.17.63.50: icmp_seq=432 ttl=57 time=423.648 ms\r\n",
      "64 bytes from 104.17.63.50: icmp_seq=433 ttl=57 time=45.638 ms\r\n",
      "64 bytes from 104.17.63.50: icmp_seq=434 ttl=57 time=321.912 ms\r\n",
      "64 bytes from 104.17.63.50: icmp_seq=435 ttl=57 time=46.779 ms\r\n",
      "64 bytes from 104.17.63.50: icmp_seq=436 ttl=57 time=71.815 ms\r\n",
      "64 bytes from 104.17.63.50: icmp_seq=437 ttl=57 time=45.172 ms\r\n",
      "64 bytes from 104.17.63.50: icmp_seq=438 ttl=57 time=46.395 ms\r\n",
      "64 bytes from 104.17.63.50: icmp_seq=439 ttl=57 time=72.750 ms\r\n",
      "64 bytes from 104.17.63.50: icmp_seq=440 ttl=57 time=116.171 ms\r\n",
      "64 bytes from 104.17.63.50: icmp_seq=441 ttl=57 time=316.575 ms\r\n",
      "64 bytes from 104.17.63.50: icmp_seq=442 ttl=57 time=211.059 ms\r\n",
      "64 bytes from 104.17.63.50: icmp_seq=443 ttl=57 time=259.774 ms\r\n",
      "64 bytes from 104.17.63.50: icmp_seq=444 ttl=57 time=260.456 ms\r\n",
      "64 bytes from 104.17.63.50: icmp_seq=445 ttl=57 time=45.753 ms\r\n",
      "64 bytes from 104.17.63.50: icmp_seq=446 ttl=57 time=45.456 ms\r\n",
      "64 bytes from 104.17.63.50: icmp_seq=447 ttl=57 time=45.937 ms\r\n",
      "64 bytes from 104.17.63.50: icmp_seq=448 ttl=57 time=74.005 ms\r\n",
      "64 bytes from 104.17.63.50: icmp_seq=449 ttl=57 time=45.522 ms\r\n",
      "64 bytes from 104.17.63.50: icmp_seq=450 ttl=57 time=51.173 ms\r\n",
      "64 bytes from 104.17.63.50: icmp_seq=451 ttl=57 time=252.800 ms\r\n",
      "64 bytes from 104.17.63.50: icmp_seq=452 ttl=57 time=102.212 ms\r\n",
      "64 bytes from 104.17.63.50: icmp_seq=453 ttl=57 time=178.775 ms\r\n",
      "64 bytes from 104.17.63.50: icmp_seq=454 ttl=57 time=198.187 ms\r\n",
      "64 bytes from 104.17.63.50: icmp_seq=455 ttl=57 time=111.511 ms\r\n",
      "64 bytes from 104.17.63.50: icmp_seq=456 ttl=57 time=44.744 ms\r\n",
      "64 bytes from 104.17.63.50: icmp_seq=457 ttl=57 time=95.567 ms\r\n",
      "64 bytes from 104.17.63.50: icmp_seq=458 ttl=57 time=45.564 ms\r\n",
      "64 bytes from 104.17.63.50: icmp_seq=459 ttl=57 time=141.709 ms\r\n",
      "64 bytes from 104.17.63.50: icmp_seq=460 ttl=57 time=183.509 ms\r\n",
      "64 bytes from 104.17.63.50: icmp_seq=461 ttl=57 time=45.686 ms\r\n",
      "64 bytes from 104.17.63.50: icmp_seq=462 ttl=57 time=80.660 ms\r\n",
      "64 bytes from 104.17.63.50: icmp_seq=463 ttl=57 time=150.737 ms\r\n",
      "64 bytes from 104.17.63.50: icmp_seq=464 ttl=57 time=258.871 ms\r\n",
      "64 bytes from 104.17.63.50: icmp_seq=465 ttl=57 time=209.774 ms\r\n",
      "64 bytes from 104.17.63.50: icmp_seq=466 ttl=57 time=255.821 ms\r\n",
      "Request timeout for icmp_seq 467\r\n",
      "64 bytes from 104.17.63.50: icmp_seq=468 ttl=57 time=45.272 ms\r\n",
      "64 bytes from 104.17.63.50: icmp_seq=469 ttl=57 time=82.754 ms\r\n",
      "64 bytes from 104.17.63.50: icmp_seq=470 ttl=57 time=56.753 ms\r\n",
      "64 bytes from 104.17.63.50: icmp_seq=471 ttl=57 time=134.186 ms\r\n",
      "64 bytes from 104.17.63.50: icmp_seq=472 ttl=57 time=334.413 ms\r\n",
      "64 bytes from 104.17.63.50: icmp_seq=473 ttl=57 time=130.612 ms\r\n",
      "64 bytes from 104.17.63.50: icmp_seq=474 ttl=57 time=190.455 ms\r\n",
      "64 bytes from 104.17.63.50: icmp_seq=475 ttl=57 time=229.976 ms\r\n",
      "64 bytes from 104.17.63.50: icmp_seq=476 ttl=57 time=225.344 ms\r\n",
      "64 bytes from 104.17.63.50: icmp_seq=477 ttl=57 time=44.898 ms\r\n",
      "64 bytes from 104.17.63.50: icmp_seq=478 ttl=57 time=52.190 ms\r\n",
      "64 bytes from 104.17.63.50: icmp_seq=479 ttl=57 time=45.604 ms\r\n",
      "64 bytes from 104.17.63.50: icmp_seq=480 ttl=57 time=46.118 ms\r\n",
      "64 bytes from 104.17.63.50: icmp_seq=481 ttl=57 time=50.463 ms\r\n",
      "64 bytes from 104.17.63.50: icmp_seq=482 ttl=57 time=70.224 ms\r\n",
      "64 bytes from 104.17.63.50: icmp_seq=483 ttl=57 time=69.681 ms\r\n",
      "64 bytes from 104.17.63.50: icmp_seq=484 ttl=57 time=119.884 ms\r\n",
      "64 bytes from 104.17.63.50: icmp_seq=485 ttl=57 time=165.299 ms\r\n",
      "64 bytes from 104.17.63.50: icmp_seq=486 ttl=57 time=403.185 ms\r\n",
      "64 bytes from 104.17.63.50: icmp_seq=487 ttl=57 time=360.721 ms\r\n",
      "64 bytes from 104.17.63.50: icmp_seq=488 ttl=57 time=259.397 ms\r\n",
      "64 bytes from 104.17.63.50: icmp_seq=489 ttl=57 time=46.836 ms\r\n",
      "64 bytes from 104.17.63.50: icmp_seq=490 ttl=57 time=45.743 ms\r\n",
      "64 bytes from 104.17.63.50: icmp_seq=491 ttl=57 time=64.734 ms\r\n",
      "64 bytes from 104.17.63.50: icmp_seq=492 ttl=57 time=62.907 ms\r\n",
      "64 bytes from 104.17.63.50: icmp_seq=493 ttl=57 time=45.895 ms\r\n",
      "64 bytes from 104.17.63.50: icmp_seq=494 ttl=57 time=49.796 ms\r\n",
      "64 bytes from 104.17.63.50: icmp_seq=495 ttl=57 time=294.600 ms\r\n",
      "64 bytes from 104.17.63.50: icmp_seq=496 ttl=57 time=229.850 ms\r\n",
      "64 bytes from 104.17.63.50: icmp_seq=497 ttl=57 time=169.428 ms\r\n",
      "64 bytes from 104.17.63.50: icmp_seq=498 ttl=57 time=194.139 ms\r\n",
      "64 bytes from 104.17.63.50: icmp_seq=499 ttl=57 time=106.112 ms\r\n",
      "64 bytes from 104.17.63.50: icmp_seq=500 ttl=57 time=163.174 ms\r\n",
      "64 bytes from 104.17.63.50: icmp_seq=501 ttl=57 time=45.043 ms\r\n",
      "64 bytes from 104.17.63.50: icmp_seq=502 ttl=57 time=59.165 ms\r\n",
      "64 bytes from 104.17.63.50: icmp_seq=503 ttl=57 time=45.589 ms\r\n",
      "64 bytes from 104.17.63.50: icmp_seq=504 ttl=57 time=195.343 ms\r\n",
      "64 bytes from 104.17.63.50: icmp_seq=505 ttl=57 time=51.782 ms\r\n",
      "64 bytes from 104.17.63.50: icmp_seq=506 ttl=57 time=77.122 ms\r\n",
      "64 bytes from 104.17.63.50: icmp_seq=507 ttl=57 time=126.696 ms\r\n",
      "64 bytes from 104.17.63.50: icmp_seq=508 ttl=57 time=172.499 ms\r\n",
      "64 bytes from 104.17.63.50: icmp_seq=509 ttl=57 time=218.172 ms\r\n",
      "64 bytes from 104.17.63.50: icmp_seq=510 ttl=57 time=263.923 ms\r\n",
      "64 bytes from 104.17.63.50: icmp_seq=511 ttl=57 time=268.275 ms\r\n",
      "64 bytes from 104.17.63.50: icmp_seq=512 ttl=57 time=344.235 ms\r\n",
      "64 bytes from 104.17.63.50: icmp_seq=513 ttl=57 time=77.138 ms\r\n",
      "64 bytes from 104.17.63.50: icmp_seq=514 ttl=57 time=45.397 ms\r\n",
      "64 bytes from 104.17.63.50: icmp_seq=515 ttl=57 time=45.259 ms\r\n",
      "64 bytes from 104.17.63.50: icmp_seq=516 ttl=57 time=45.214 ms\r\n",
      "64 bytes from 104.17.63.50: icmp_seq=517 ttl=57 time=62.143 ms\r\n",
      "64 bytes from 104.17.63.50: icmp_seq=518 ttl=57 time=156.851 ms\r\n",
      "64 bytes from 104.17.63.50: icmp_seq=519 ttl=57 time=186.704 ms\r\n",
      "64 bytes from 104.17.63.50: icmp_seq=520 ttl=57 time=170.479 ms\r\n",
      "64 bytes from 104.17.63.50: icmp_seq=521 ttl=57 time=201.956 ms\r\n",
      "64 bytes from 104.17.63.50: icmp_seq=522 ttl=57 time=443.540 ms\r\n",
      "64 bytes from 104.17.63.50: icmp_seq=523 ttl=57 time=294.635 ms\r\n",
      "64 bytes from 104.17.63.50: icmp_seq=524 ttl=57 time=207.862 ms\r\n",
      "64 bytes from 104.17.63.50: icmp_seq=525 ttl=57 time=46.352 ms\r\n",
      "64 bytes from 104.17.63.50: icmp_seq=526 ttl=57 time=48.939 ms\r\n",
      "64 bytes from 104.17.63.50: icmp_seq=527 ttl=57 time=45.788 ms\r\n",
      "64 bytes from 104.17.63.50: icmp_seq=528 ttl=57 time=46.336 ms\r\n",
      "64 bytes from 104.17.63.50: icmp_seq=529 ttl=57 time=89.080 ms\r\n",
      "64 bytes from 104.17.63.50: icmp_seq=530 ttl=57 time=140.434 ms\r\n",
      "64 bytes from 104.17.63.50: icmp_seq=531 ttl=57 time=760.065 ms\r\n",
      "64 bytes from 104.17.63.50: icmp_seq=532 ttl=57 time=227.958 ms\r\n",
      "64 bytes from 104.17.63.50: icmp_seq=533 ttl=57 time=226.520 ms\r\n",
      "64 bytes from 104.17.63.50: icmp_seq=534 ttl=57 time=45.522 ms\r\n",
      "64 bytes from 104.17.63.50: icmp_seq=535 ttl=57 time=87.162 ms\r\n",
      "64 bytes from 104.17.63.50: icmp_seq=536 ttl=57 time=51.937 ms\r\n",
      "64 bytes from 104.17.63.50: icmp_seq=537 ttl=57 time=46.224 ms\r\n",
      "64 bytes from 104.17.63.50: icmp_seq=538 ttl=57 time=46.060 ms\r\n",
      "64 bytes from 104.17.63.50: icmp_seq=539 ttl=57 time=45.232 ms\r\n",
      "64 bytes from 104.17.63.50: icmp_seq=540 ttl=57 time=256.822 ms\r\n",
      "64 bytes from 104.17.63.50: icmp_seq=541 ttl=57 time=107.545 ms\r\n",
      "64 bytes from 104.17.63.50: icmp_seq=542 ttl=57 time=108.326 ms\r\n",
      "64 bytes from 104.17.63.50: icmp_seq=543 ttl=57 time=151.593 ms\r\n",
      "64 bytes from 104.17.63.50: icmp_seq=544 ttl=57 time=199.035 ms\r\n",
      "64 bytes from 104.17.63.50: icmp_seq=545 ttl=57 time=117.224 ms\r\n",
      "64 bytes from 104.17.63.50: icmp_seq=546 ttl=57 time=46.626 ms\r\n",
      "64 bytes from 104.17.63.50: icmp_seq=547 ttl=57 time=45.245 ms\r\n",
      "64 bytes from 104.17.63.50: icmp_seq=548 ttl=57 time=46.043 ms\r\n",
      "64 bytes from 104.17.63.50: icmp_seq=549 ttl=57 time=147.877 ms\r\n",
      "64 bytes from 104.17.63.50: icmp_seq=550 ttl=57 time=50.156 ms\r\n",
      "64 bytes from 104.17.63.50: icmp_seq=551 ttl=57 time=257.249 ms\r\n",
      "64 bytes from 104.17.63.50: icmp_seq=552 ttl=57 time=302.379 ms\r\n",
      "Request timeout for icmp_seq 553\r\n",
      "64 bytes from 104.17.63.50: icmp_seq=554 ttl=57 time=45.343 ms\r\n",
      "64 bytes from 104.17.63.50: icmp_seq=555 ttl=57 time=65.874 ms\r\n",
      "^C\r\n",
      "\r\n",
      "--- faceit.com ping statistics ---\r\n",
      "556 packets transmitted, 551 packets received, 0.9% packet loss\r\n",
      "round-trip min/avg/max/stddev = 44.528/138.274/760.065/102.734 ms\r\n",
      "PING faceit.com (104.17.63.50): 56 data bytes\r\n",
      "64 bytes from 104.17.63.50: icmp_seq=0 ttl=57 time=117.812 ms\r\n",
      "64 bytes from 104.17.63.50: icmp_seq=1 ttl=57 time=45.386 ms\r\n",
      "64 bytes from 104.17.63.50: icmp_seq=2 ttl=57 time=70.130 ms\r\n",
      "64 bytes from 104.17.63.50: icmp_seq=3 ttl=57 time=45.283 ms\r\n",
      "64 bytes from 104.17.63.50: icmp_seq=4 ttl=57 time=47.760 ms\r\n",
      "64 bytes from 104.17.63.50: icmp_seq=5 ttl=57 time=44.927 ms\r\n",
      "64 bytes from 104.17.63.50: icmp_seq=6 ttl=57 time=54.913 ms\r\n",
      "64 bytes from 104.17.63.50: icmp_seq=7 ttl=57 time=286.090 ms\r\n",
      "64 bytes from 104.17.63.50: icmp_seq=8 ttl=57 time=133.528 ms\r\n",
      "64 bytes from 104.17.63.50: icmp_seq=9 ttl=57 time=177.027 ms\r\n",
      "64 bytes from 104.17.63.50: icmp_seq=10 ttl=57 time=219.658 ms\r\n",
      "64 bytes from 104.17.63.50: icmp_seq=11 ttl=57 time=263.388 ms\r\n",
      "64 bytes from 104.17.63.50: icmp_seq=12 ttl=57 time=264.896 ms\r\n",
      "64 bytes from 104.17.63.50: icmp_seq=13 ttl=57 time=45.338 ms\r\n",
      "64 bytes from 104.17.63.50: icmp_seq=14 ttl=57 time=84.052 ms\r\n",
      "64 bytes from 104.17.63.50: icmp_seq=15 ttl=57 time=45.162 ms\r\n",
      "64 bytes from 104.17.63.50: icmp_seq=16 ttl=57 time=199.249 ms\r\n",
      "64 bytes from 104.17.63.50: icmp_seq=17 ttl=57 time=45.914 ms\r\n",
      "64 bytes from 104.17.63.50: icmp_seq=18 ttl=57 time=58.313 ms\r\n",
      "64 bytes from 104.17.63.50: icmp_seq=19 ttl=57 time=107.028 ms\r\n",
      "64 bytes from 104.17.63.50: icmp_seq=20 ttl=57 time=110.076 ms\r\n",
      "64 bytes from 104.17.63.50: icmp_seq=21 ttl=57 time=153.036 ms\r\n",
      "64 bytes from 104.17.63.50: icmp_seq=22 ttl=57 time=254.605 ms\r\n",
      "64 bytes from 104.17.63.50: icmp_seq=23 ttl=57 time=112.313 ms\r\n",
      "64 bytes from 104.17.63.50: icmp_seq=24 ttl=57 time=44.972 ms\r\n",
      "64 bytes from 104.17.63.50: icmp_seq=25 ttl=57 time=56.114 ms\r\n",
      "64 bytes from 104.17.63.50: icmp_seq=26 ttl=57 time=45.458 ms\r\n",
      "64 bytes from 104.17.63.50: icmp_seq=27 ttl=57 time=71.280 ms\r\n",
      "64 bytes from 104.17.63.50: icmp_seq=28 ttl=57 time=44.910 ms\r\n",
      "64 bytes from 104.17.63.50: icmp_seq=29 ttl=57 time=124.667 ms\r\n",
      "64 bytes from 104.17.63.50: icmp_seq=30 ttl=57 time=86.581 ms\r\n",
      "64 bytes from 104.17.63.50: icmp_seq=31 ttl=57 time=134.317 ms\r\n",
      "64 bytes from 104.17.63.50: icmp_seq=32 ttl=57 time=177.319 ms\r\n",
      "64 bytes from 104.17.63.50: icmp_seq=33 ttl=57 time=415.352 ms\r\n",
      "64 bytes from 104.17.63.50: icmp_seq=34 ttl=57 time=220.367 ms\r\n",
      "64 bytes from 104.17.63.50: icmp_seq=35 ttl=57 time=45.103 ms\r\n",
      "64 bytes from 104.17.63.50: icmp_seq=36 ttl=57 time=318.764 ms\r\n",
      "64 bytes from 104.17.63.50: icmp_seq=37 ttl=57 time=45.023 ms\r\n",
      "64 bytes from 104.17.63.50: icmp_seq=38 ttl=57 time=45.267 ms\r\n",
      "64 bytes from 104.17.63.50: icmp_seq=39 ttl=57 time=44.819 ms\r\n",
      "64 bytes from 104.17.63.50: icmp_seq=40 ttl=57 time=45.787 ms\r\n",
      "64 bytes from 104.17.63.50: icmp_seq=41 ttl=57 time=62.169 ms\r\n",
      "64 bytes from 104.17.63.50: icmp_seq=42 ttl=57 time=144.956 ms\r\n",
      "64 bytes from 104.17.63.50: icmp_seq=43 ttl=57 time=220.546 ms\r\n",
      "64 bytes from 104.17.63.50: icmp_seq=44 ttl=57 time=158.591 ms\r\n",
      "64 bytes from 104.17.63.50: icmp_seq=45 ttl=57 time=206.422 ms\r\n",
      "64 bytes from 104.17.63.50: icmp_seq=46 ttl=57 time=318.473 ms\r\n",
      "64 bytes from 104.17.63.50: icmp_seq=47 ttl=57 time=45.138 ms\r\n",
      "64 bytes from 104.17.63.50: icmp_seq=48 ttl=57 time=45.124 ms\r\n",
      "64 bytes from 104.17.63.50: icmp_seq=49 ttl=57 time=45.425 ms\r\n",
      "64 bytes from 104.17.63.50: icmp_seq=50 ttl=57 time=44.929 ms\r\n",
      "64 bytes from 104.17.63.50: icmp_seq=51 ttl=57 time=46.856 ms\r\n",
      "64 bytes from 104.17.63.50: icmp_seq=52 ttl=57 time=247.901 ms\r\n",
      "64 bytes from 104.17.63.50: icmp_seq=53 ttl=57 time=93.637 ms\r\n",
      "64 bytes from 104.17.63.50: icmp_seq=54 ttl=57 time=251.538 ms\r\n",
      "64 bytes from 104.17.63.50: icmp_seq=55 ttl=57 time=189.734 ms\r\n",
      "64 bytes from 104.17.63.50: icmp_seq=56 ttl=57 time=260.357 ms\r\n",
      "64 bytes from 104.17.63.50: icmp_seq=57 ttl=57 time=239.175 ms\r\n",
      "64 bytes from 104.17.63.50: icmp_seq=58 ttl=57 time=48.131 ms\r\n",
      "64 bytes from 104.17.63.50: icmp_seq=59 ttl=57 time=334.126 ms\r\n",
      "64 bytes from 104.17.63.50: icmp_seq=60 ttl=57 time=45.419 ms\r\n",
      "64 bytes from 104.17.63.50: icmp_seq=61 ttl=57 time=532.956 ms\r\n",
      "64 bytes from 104.17.63.50: icmp_seq=62 ttl=57 time=52.996 ms\r\n",
      "64 bytes from 104.17.63.50: icmp_seq=63 ttl=57 time=71.992 ms\r\n",
      "64 bytes from 104.17.63.50: icmp_seq=64 ttl=57 time=105.809 ms\r\n",
      "64 bytes from 104.17.63.50: icmp_seq=65 ttl=57 time=95.192 ms\r\n",
      "64 bytes from 104.17.63.50: icmp_seq=66 ttl=57 time=158.103 ms\r\n",
      "64 bytes from 104.17.63.50: icmp_seq=67 ttl=57 time=284.985 ms\r\n",
      "64 bytes from 104.17.63.50: icmp_seq=68 ttl=57 time=235.463 ms\r\n",
      "64 bytes from 104.17.63.50: icmp_seq=69 ttl=57 time=241.268 ms\r\n",
      "64 bytes from 104.17.63.50: icmp_seq=70 ttl=57 time=54.835 ms\r\n",
      "64 bytes from 104.17.63.50: icmp_seq=71 ttl=57 time=45.384 ms\r\n",
      "64 bytes from 104.17.63.50: icmp_seq=72 ttl=57 time=375.502 ms\r\n",
      "64 bytes from 104.17.63.50: icmp_seq=73 ttl=57 time=45.153 ms\r\n",
      "64 bytes from 104.17.63.50: icmp_seq=74 ttl=57 time=51.585 ms\r\n",
      "64 bytes from 104.17.63.50: icmp_seq=75 ttl=57 time=49.346 ms\r\n",
      "64 bytes from 104.17.63.50: icmp_seq=76 ttl=57 time=77.540 ms\r\n",
      "64 bytes from 104.17.63.50: icmp_seq=77 ttl=57 time=820.434 ms\r\n",
      "64 bytes from 104.17.63.50: icmp_seq=78 ttl=57 time=174.359 ms\r\n",
      "64 bytes from 104.17.63.50: icmp_seq=79 ttl=57 time=172.524 ms\r\n",
      "64 bytes from 104.17.63.50: icmp_seq=80 ttl=57 time=224.085 ms\r\n",
      "64 bytes from 104.17.63.50: icmp_seq=81 ttl=57 time=162.370 ms\r\n",
      "64 bytes from 104.17.63.50: icmp_seq=82 ttl=57 time=177.031 ms\r\n",
      "64 bytes from 104.17.63.50: icmp_seq=83 ttl=57 time=45.577 ms\r\n",
      "64 bytes from 104.17.63.50: icmp_seq=84 ttl=57 time=45.266 ms\r\n",
      "64 bytes from 104.17.63.50: icmp_seq=85 ttl=57 time=58.909 ms\r\n",
      "64 bytes from 104.17.63.50: icmp_seq=86 ttl=57 time=215.632 ms\r\n",
      "64 bytes from 104.17.63.50: icmp_seq=87 ttl=57 time=66.395 ms\r\n",
      "64 bytes from 104.17.63.50: icmp_seq=88 ttl=57 time=107.813 ms\r\n",
      "64 bytes from 104.17.63.50: icmp_seq=89 ttl=57 time=176.132 ms\r\n",
      "64 bytes from 104.17.63.50: icmp_seq=90 ttl=57 time=254.126 ms\r\n",
      "64 bytes from 104.17.63.50: icmp_seq=91 ttl=57 time=273.323 ms\r\n",
      "64 bytes from 104.17.63.50: icmp_seq=92 ttl=57 time=254.411 ms\r\n",
      "64 bytes from 104.17.63.50: icmp_seq=93 ttl=57 time=65.741 ms\r\n",
      "64 bytes from 104.17.63.50: icmp_seq=94 ttl=57 time=45.934 ms\r\n",
      "64 bytes from 104.17.63.50: icmp_seq=95 ttl=57 time=106.208 ms\r\n",
      "64 bytes from 104.17.63.50: icmp_seq=96 ttl=57 time=48.020 ms\r\n",
      "64 bytes from 104.17.63.50: icmp_seq=97 ttl=57 time=198.755 ms\r\n",
      "64 bytes from 104.17.63.50: icmp_seq=98 ttl=57 time=47.857 ms\r\n",
      "64 bytes from 104.17.63.50: icmp_seq=99 ttl=57 time=91.960 ms\r\n",
      "^C\r\n",
      "\r\n",
      "--- faceit.com ping statistics ---\r\n",
      "100 packets transmitted, 100 packets received, 0.0% packet loss\r\n",
      "round-trip min/avg/max/stddev = 44.819/143.116/820.434/121.364 ms\r\n"
     ]
    }
   ],
   "source": [
    "! ping faceit.com"
   ],
   "metadata": {
    "collapsed": false
   }
  }
 ],
 "metadata": {
  "kernelspec": {
   "display_name": "Python 3",
   "language": "python",
   "name": "python3"
  },
  "language_info": {
   "codemirror_mode": {
    "name": "ipython",
    "version": 2
   },
   "file_extension": ".py",
   "mimetype": "text/x-python",
   "name": "python",
   "nbconvert_exporter": "python",
   "pygments_lexer": "ipython2",
   "version": "2.7.6"
  }
 },
 "nbformat": 4,
 "nbformat_minor": 0
}
