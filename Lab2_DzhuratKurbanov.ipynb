{
 "cells": [
  {
   "cell_type": "markdown",
   "metadata": {
    "collapsed": false
   },
   "source": [
    "# Лабораторная 2 Курбанов Джурат AIN-1-21\n",
    "## 1.\tИспользование команд библиотеки NumPy"
   ]
  },
  {
   "cell_type": "markdown",
   "metadata": {
    "collapsed": false
   },
   "source": [
    "### 1.1. Создайте одномерный массив my_array, в котором по порядку все числа до 100, кратные 5"
   ]
  },
  {
   "cell_type": "code",
   "execution_count": 9,
   "metadata": {
    "collapsed": false
   },
   "outputs": [
    {
     "name": "stdout",
     "output_type": "stream",
     "text": [
      "[  5  10  15  20  25  30  35  40  45  50  55  60  65  70  75  80  85  90\n",
      "  95 100]\n"
     ]
    }
   ],
   "source": [
    "import numpy as np\n",
    "my_array = np.arange(5, 101, 5)\n",
    "print(my_array)"
   ]
  },
  {
   "cell_type": "markdown",
   "metadata": {
    "collapsed": false
   },
   "source": [
    "### 2.1. Из полученного массива получить массив с кратными 10 числами"
   ]
  },
  {
   "cell_type": "code",
   "execution_count": 7,
   "metadata": {
    "collapsed": false
   },
   "outputs": [
    {
     "data": {
      "text/plain": "array([ 10,  20,  30,  40,  50,  60,  70,  80,  90, 100])"
     },
     "execution_count": 7,
     "metadata": {},
     "output_type": "execute_result"
    }
   ],
   "source": [
    "my_array_10 = my_array[my_array % 10 == 0]\n",
    "my_array_10"
   ]
  },
  {
   "cell_type": "markdown",
   "metadata": {
    "collapsed": false
   },
   "source": [
    "### 3.1. Получить двумерный массив с двумя столбцами\n"
   ]
  },
  {
   "cell_type": "code",
   "execution_count": 4,
   "metadata": {
    "collapsed": false
   },
   "outputs": [
    {
     "data": {
      "text/plain": "array([[  5,  10],\n       [ 15,  20],\n       [ 25,  30],\n       [ 35,  40],\n       [ 45,  50],\n       [ 55,  60],\n       [ 65,  70],\n       [ 75,  80],\n       [ 85,  90],\n       [ 95, 100]])"
     },
     "execution_count": 4,
     "metadata": {},
     "output_type": "execute_result"
    }
   ],
   "source": [
    "my_2d_array = my_array.reshape(-1, 2)\n",
    "my_2d_array"
   ]
  },
  {
   "cell_type": "markdown",
   "metadata": {
    "collapsed": false
   },
   "source": [
    "### 4.1.\tПолучите набор my_second_array, в котором все элементы меньше предыдущего исходного на 5"
   ]
  },
  {
   "cell_type": "code",
   "execution_count": 5,
   "metadata": {
    "collapsed": false
   },
   "outputs": [
    {
     "data": {
      "text/plain": "array([ 0,  5, 10, 15, 20, 25, 30, 35, 40, 45, 50, 55, 60, 65, 70, 75, 80,\n       85, 90, 95])"
     },
     "execution_count": 5,
     "metadata": {},
     "output_type": "execute_result"
    }
   ],
   "source": [
    "my_second_array = my_array - 5\n",
    "my_second_array"
   ]
  },
  {
   "cell_type": "markdown",
   "metadata": {
    "collapsed": false
   },
   "source": [
    "### 5.1.\tСоедините массивы, полученные в п. 3.1 и 4.1, горизонтально. Используйте .T для транспонирования матрицы."
   ]
  },
  {
   "cell_type": "code",
   "execution_count": 6,
   "metadata": {
    "collapsed": false
   },
   "outputs": [
    {
     "data": {
      "text/plain": "array([[  5,  15,  25,  35,  45,  55,  65,  75,  85,  95],\n       [ 10,  20,  30,  40,  50,  60,  70,  80,  90, 100],\n       [  0,  10,  20,  30,  40,  50,  60,  70,  80,  90],\n       [  5,  15,  25,  35,  45,  55,  65,  75,  85,  95]])"
     },
     "execution_count": 6,
     "metadata": {},
     "output_type": "execute_result"
    }
   ],
   "source": [
    "combined_array = np.hstack((my_2d_array, my_second_array.reshape(-1, 2))).T\n",
    "combined_array"
   ]
  },
  {
   "cell_type": "code",
   "execution_count": 189,
   "metadata": {
    "collapsed": false
   },
   "outputs": [],
   "source": []
  },
  {
   "cell_type": "markdown",
   "metadata": {
    "collapsed": false
   },
   "source": []
  },
  {
   "cell_type": "markdown",
   "metadata": {
    "collapsed": false
   },
   "source": [
    "### 6.1. Разделите 2 и 3 строку на 4 верхних строки my_array. Используйте .T для транспонирования матрицы\n"
   ]
  },
  {
   "cell_type": "code",
   "execution_count": 8,
   "metadata": {
    "collapsed": false
   },
   "outputs": [
    {
     "data": {
      "text/plain": "array([[ 5, 15, 25, 35, 45, 55, 65, 75, 85, 95],\n       [ 2,  4,  6,  8, 10, 12, 14, 16, 18, 20],\n       [ 0,  1,  2,  3,  4,  5,  6,  7,  8,  9],\n       [ 5, 15, 25, 35, 45, 55, 65, 75, 85, 95]])"
     },
     "execution_count": 8,
     "metadata": {},
     "output_type": "execute_result"
    }
   ],
   "source": [
    "result = combined_array.copy()\n",
    "result[1:3, :] = result[1:3, :] / my_array[:2, np.newaxis]\n",
    "result"
   ]
  },
  {
   "cell_type": "markdown",
   "metadata": {
    "collapsed": false
   },
   "source": [
    "### 7.1 Оставить только те значения, которые не изменились после деления\n"
   ]
  },
  {
   "cell_type": "code",
   "execution_count": 12,
   "metadata": {
    "collapsed": false
   },
   "outputs": [
    {
     "data": {
      "text/plain": "array([], shape=(4, 0), dtype=int64)"
     },
     "execution_count": 12,
     "metadata": {},
     "output_type": "execute_result"
    }
   ],
   "source": [
    "result = result[:, (result[0] == result[1])]\n",
    "result"
   ]
  },
  {
   "cell_type": "markdown",
   "metadata": {
    "collapsed": false
   },
   "source": [
    "### 8.1 Снова получить трехстрочный двумерный массив и поменять местами первую и третью строки\n"
   ]
  },
  {
   "cell_type": "code",
   "execution_count": 11,
   "metadata": {
    "collapsed": false
   },
   "outputs": [
    {
     "data": {
      "text/plain": "array([[  0,  10,  20,  30,  40,  50,  60,  70,  80,  90],\n       [ 10,  20,  30,  40,  50,  60,  70,  80,  90, 100],\n       [  5,  15,  25,  35,  45,  55,  65,  75,  85,  95],\n       [  5,  15,  25,  35,  45,  55,  65,  75,  85,  95]])"
     },
     "execution_count": 11,
     "metadata": {},
     "output_type": "execute_result"
    }
   ],
   "source": [
    "result_2d = combined_array.copy()\n",
    "result_2d[[0, 2]] = result_2d[[2, 0]]\n",
    "result_2d"
   ]
  },
  {
   "cell_type": "markdown",
   "metadata": {
    "collapsed": false
   },
   "source": [
    "### 9.1 Получить среднее, медиану и стандартное отклонение для каждой строки\n"
   ]
  },
  {
   "cell_type": "code",
   "execution_count": 13,
   "metadata": {
    "collapsed": false
   },
   "outputs": [
    {
     "name": "stdout",
     "output_type": "stream",
     "text": [
      "Среднее: [45. 55. 50. 50.]\n",
      "Медиана: [45. 55. 50. 50.]\n",
      "Стандартное: [28.72281323 28.72281323 28.72281323 28.72281323]\n"
     ]
    }
   ],
   "source": [
    "mean_values = np.mean(result_2d, axis=1)\n",
    "median_values = np.median(result_2d, axis=1)\n",
    "std_deviation = np.std(result_2d, axis=1)\n",
    "print(f\"Среднее: {mean_values}\")\n",
    "print(f\"Медиана: {median_values}\")\n",
    "print(f\"Стандартное: {std_deviation}\")\n"
   ]
  },
  {
   "cell_type": "markdown",
   "metadata": {
    "collapsed": false
   },
   "source": [
    "### 10.1 Сделать нормализацию на максимальное значение вдоль строк\n"
   ]
  },
  {
   "cell_type": "code",
   "execution_count": 14,
   "metadata": {
    "collapsed": false
   },
   "outputs": [
    {
     "data": {
      "text/plain": "array([[0.        , 0.11111111, 0.22222222, 0.33333333, 0.44444444,\n        0.55555556, 0.66666667, 0.77777778, 0.88888889, 1.        ],\n       [0.1       , 0.2       , 0.3       , 0.4       , 0.5       ,\n        0.6       , 0.7       , 0.8       , 0.9       , 1.        ],\n       [0.05263158, 0.15789474, 0.26315789, 0.36842105, 0.47368421,\n        0.57894737, 0.68421053, 0.78947368, 0.89473684, 1.        ],\n       [0.05263158, 0.15789474, 0.26315789, 0.36842105, 0.47368421,\n        0.57894737, 0.68421053, 0.78947368, 0.89473684, 1.        ]])"
     },
     "execution_count": 14,
     "metadata": {},
     "output_type": "execute_result"
    }
   ],
   "source": [
    "normalized_array = result_2d / result_2d.max(axis=1)[:, np.newaxis]\n",
    "normalized_array"
   ]
  },
  {
   "cell_type": "markdown",
   "metadata": {
    "collapsed": false
   },
   "source": [
    "## 2.\tИспользование команд библиотеки pandas"
   ]
  },
  {
   "cell_type": "markdown",
   "metadata": {
    "collapsed": false
   },
   "source": [
    "### 2.1 Импортируйте данные из файла “Global Population Trends(2016-2022).csv”.\n"
   ]
  },
  {
   "cell_type": "code",
   "execution_count": 3,
   "metadata": {
    "collapsed": false
   },
   "outputs": [],
   "source": [
    "import pandas as pd\n",
    "df = pd.read_csv(\"Global Population Trends(2016-2022).csv\")"
   ]
  },
  {
   "cell_type": "markdown",
   "metadata": {
    "collapsed": false
   },
   "source": [
    "### 2.2 Считайте несколько первых записей таблицы (head())\n"
   ]
  },
  {
   "cell_type": "code",
   "execution_count": 4,
   "metadata": {
    "collapsed": false
   },
   "outputs": [
    {
     "data": {
      "text/plain": "       Country  Year Total Population Urban Population Rural Population  \\\n0  Afghanistan  2017                -                -                -   \n1  Afghanistan  2018       36,686,784        9,353,296       27,333,488   \n2  Afghanistan  2019       37,769,499        9,727,157       28,042,342   \n3  Afghanistan  2020       38,972,230       10,142,913       28,829,317   \n4  Afghanistan  2021       40,099,462       10,551,772       29,547,690   \n\n  Population Density Life Expectancy  Birth Rate  Death Rate Fertility Rate  \\\n0                 55            63.0      37.342       7.027          5.129   \n1                 56            63.0      36.927       6.981          5.002   \n2                 58            64.0      36.466       6.791           4.87   \n3                 60            63.0      36.051       7.113           4.75   \n4                  -            62.0      35.842       7.344          4.643   \n\n  Infant Mortality Rate Growth Rate  \n0                  49.4           -  \n1                  47.8         3.0  \n2                  46.3         3.0  \n3                  44.8         3.0  \n4                  43.4         3.0  ",
      "text/html": "<div>\n<style scoped>\n    .dataframe tbody tr th:only-of-type {\n        vertical-align: middle;\n    }\n\n    .dataframe tbody tr th {\n        vertical-align: top;\n    }\n\n    .dataframe thead th {\n        text-align: right;\n    }\n</style>\n<table border=\"1\" class=\"dataframe\">\n  <thead>\n    <tr style=\"text-align: right;\">\n      <th></th>\n      <th>Country</th>\n      <th>Year</th>\n      <th>Total Population</th>\n      <th>Urban Population</th>\n      <th>Rural Population</th>\n      <th>Population Density</th>\n      <th>Life Expectancy</th>\n      <th>Birth Rate</th>\n      <th>Death Rate</th>\n      <th>Fertility Rate</th>\n      <th>Infant Mortality Rate</th>\n      <th>Growth Rate</th>\n    </tr>\n  </thead>\n  <tbody>\n    <tr>\n      <th>0</th>\n      <td>Afghanistan</td>\n      <td>2017</td>\n      <td>-</td>\n      <td>-</td>\n      <td>-</td>\n      <td>55</td>\n      <td>63.0</td>\n      <td>37.342</td>\n      <td>7.027</td>\n      <td>5.129</td>\n      <td>49.4</td>\n      <td>-</td>\n    </tr>\n    <tr>\n      <th>1</th>\n      <td>Afghanistan</td>\n      <td>2018</td>\n      <td>36,686,784</td>\n      <td>9,353,296</td>\n      <td>27,333,488</td>\n      <td>56</td>\n      <td>63.0</td>\n      <td>36.927</td>\n      <td>6.981</td>\n      <td>5.002</td>\n      <td>47.8</td>\n      <td>3.0</td>\n    </tr>\n    <tr>\n      <th>2</th>\n      <td>Afghanistan</td>\n      <td>2019</td>\n      <td>37,769,499</td>\n      <td>9,727,157</td>\n      <td>28,042,342</td>\n      <td>58</td>\n      <td>64.0</td>\n      <td>36.466</td>\n      <td>6.791</td>\n      <td>4.87</td>\n      <td>46.3</td>\n      <td>3.0</td>\n    </tr>\n    <tr>\n      <th>3</th>\n      <td>Afghanistan</td>\n      <td>2020</td>\n      <td>38,972,230</td>\n      <td>10,142,913</td>\n      <td>28,829,317</td>\n      <td>60</td>\n      <td>63.0</td>\n      <td>36.051</td>\n      <td>7.113</td>\n      <td>4.75</td>\n      <td>44.8</td>\n      <td>3.0</td>\n    </tr>\n    <tr>\n      <th>4</th>\n      <td>Afghanistan</td>\n      <td>2021</td>\n      <td>40,099,462</td>\n      <td>10,551,772</td>\n      <td>29,547,690</td>\n      <td>-</td>\n      <td>62.0</td>\n      <td>35.842</td>\n      <td>7.344</td>\n      <td>4.643</td>\n      <td>43.4</td>\n      <td>3.0</td>\n    </tr>\n  </tbody>\n</table>\n</div>"
     },
     "execution_count": 4,
     "metadata": {},
     "output_type": "execute_result"
    }
   ],
   "source": [
    "df.head()"
   ]
  },
  {
   "cell_type": "markdown",
   "metadata": {
    "collapsed": false
   },
   "source": [
    "### 2.3 Определите размерность данного фрейма (shape())\n"
   ]
  },
  {
   "cell_type": "code",
   "execution_count": 5,
   "metadata": {
    "collapsed": false
   },
   "outputs": [
    {
     "name": "stdout",
     "output_type": "stream",
     "text": [
      "Размерность фрейма: (1073, 12)\n"
     ]
    }
   ],
   "source": [
    "print(\"Размерность фрейма:\", df.shape)"
   ]
  },
  {
   "cell_type": "markdown",
   "metadata": {
    "collapsed": false
   },
   "source": [
    "### 2.4 Выведите название заголовков столбцов фрейма (columns)\n"
   ]
  },
  {
   "cell_type": "code",
   "execution_count": 6,
   "metadata": {
    "collapsed": false
   },
   "outputs": [
    {
     "data": {
      "text/plain": "Index(['Country', 'Year', 'Total Population', 'Urban Population',\n       'Rural Population', 'Population Density', 'Life Expectancy',\n       'Birth Rate', 'Death Rate', 'Fertility Rate', 'Infant Mortality Rate',\n       'Growth Rate'],\n      dtype='object')"
     },
     "execution_count": 6,
     "metadata": {},
     "output_type": "execute_result"
    }
   ],
   "source": [
    "df.columns"
   ]
  },
  {
   "cell_type": "markdown",
   "metadata": {
    "collapsed": false
   },
   "source": [
    "### 2.5 Получите описание всех переменных (полей) (info())\n"
   ]
  },
  {
   "cell_type": "code",
   "execution_count": 19,
   "metadata": {
    "collapsed": false
   },
   "outputs": [
    {
     "name": "stdout",
     "output_type": "stream",
     "text": [
      "<class 'pandas.core.frame.DataFrame'>\n",
      "RangeIndex: 1073 entries, 0 to 1072\n",
      "Data columns (total 12 columns):\n",
      " #   Column                 Non-Null Count  Dtype  \n",
      "---  ------                 --------------  -----  \n",
      " 0   Country                1073 non-null   object \n",
      " 1   Year                   1073 non-null   int64  \n",
      " 2   Total Population       1073 non-null   object \n",
      " 3   Urban Population       1073 non-null   object \n",
      " 4   Rural Population       1073 non-null   object \n",
      " 5   Population Density     1073 non-null   object \n",
      " 6   Life Expectancy        1073 non-null   object \n",
      " 7   Birth Rate             1073 non-null   float64\n",
      " 8   Death Rate             1073 non-null   float64\n",
      " 9   Fertility Rate         1073 non-null   object \n",
      " 10  Infant Mortality Rate  1073 non-null   object \n",
      " 11  Growth Rate            1073 non-null   object \n",
      "dtypes: float64(2), int64(1), object(9)\n",
      "memory usage: 100.7+ KB\n"
     ]
    }
   ],
   "source": [
    "df.info()"
   ]
  },
  {
   "cell_type": "markdown",
   "metadata": {
    "collapsed": false
   },
   "source": [
    "### 2.6 Удалите строки, не содержащие значения в столбце «Total Population»\n"
   ]
  },
  {
   "cell_type": "code",
   "execution_count": 7,
   "metadata": {
    "collapsed": false
   },
   "outputs": [
    {
     "data": {
      "text/plain": "          Country  Year Total Population Urban Population Rural Population  \\\n1     Afghanistan  2018       36,686,784        9,353,296       27,333,488   \n2     Afghanistan  2019       37,769,499        9,727,157       28,042,342   \n3     Afghanistan  2020       38,972,230       10,142,913       28,829,317   \n4     Afghanistan  2021       40,099,462       10,551,772       29,547,690   \n6         Albania  2018        2,866,376        1,728,969        1,137,407   \n...           ...   ...              ...              ...              ...   \n1067       Zambia  2021       19,473,125        8,800,295       10,672,830   \n1069     Zimbabwe  2018       15,052,184        4,848,158       10,204,026   \n1070     Zimbabwe  2019       15,354,608        4,945,719       10,408,889   \n1071     Zimbabwe  2020       15,669,666        5,052,214       10,617,452   \n1072     Zimbabwe  2021       15,993,524        5,166,388       10,827,136   \n\n     Population Density Life Expectancy  Birth Rate  Death Rate  \\\n1                    56            63.0      36.927       6.981   \n2                    58            64.0      36.466       6.791   \n3                    60            63.0      36.051       7.113   \n4                     -            62.0      35.842       7.344   \n6                   105            79.0      10.517       8.308   \n...                 ...             ...         ...         ...   \n1067                  -            61.0      34.511       6.973   \n1069                 39            61.0      32.074       7.972   \n1070                 40            61.0      31.518       8.043   \n1071                 41            61.0      31.009       8.132   \n1072                  -            59.0      30.537       9.057   \n\n     Fertility Rate Infant Mortality Rate Growth Rate  \n1             5.002                  47.8         3.0  \n2              4.87                  46.3         3.0  \n3              4.75                  44.8         3.0  \n4             4.643                  43.4         3.0  \n6              1.44                   8.3         0.0  \n...             ...                   ...         ...  \n1067          4.308                  40.2         3.0  \n1069          3.659                  38.0         2.0  \n1070          3.599                  37.1         2.0  \n1071          3.545                  36.6         2.0  \n1072          3.491                  35.7         2.0  \n\n[864 rows x 12 columns]",
      "text/html": "<div>\n<style scoped>\n    .dataframe tbody tr th:only-of-type {\n        vertical-align: middle;\n    }\n\n    .dataframe tbody tr th {\n        vertical-align: top;\n    }\n\n    .dataframe thead th {\n        text-align: right;\n    }\n</style>\n<table border=\"1\" class=\"dataframe\">\n  <thead>\n    <tr style=\"text-align: right;\">\n      <th></th>\n      <th>Country</th>\n      <th>Year</th>\n      <th>Total Population</th>\n      <th>Urban Population</th>\n      <th>Rural Population</th>\n      <th>Population Density</th>\n      <th>Life Expectancy</th>\n      <th>Birth Rate</th>\n      <th>Death Rate</th>\n      <th>Fertility Rate</th>\n      <th>Infant Mortality Rate</th>\n      <th>Growth Rate</th>\n    </tr>\n  </thead>\n  <tbody>\n    <tr>\n      <th>1</th>\n      <td>Afghanistan</td>\n      <td>2018</td>\n      <td>36,686,784</td>\n      <td>9,353,296</td>\n      <td>27,333,488</td>\n      <td>56</td>\n      <td>63.0</td>\n      <td>36.927</td>\n      <td>6.981</td>\n      <td>5.002</td>\n      <td>47.8</td>\n      <td>3.0</td>\n    </tr>\n    <tr>\n      <th>2</th>\n      <td>Afghanistan</td>\n      <td>2019</td>\n      <td>37,769,499</td>\n      <td>9,727,157</td>\n      <td>28,042,342</td>\n      <td>58</td>\n      <td>64.0</td>\n      <td>36.466</td>\n      <td>6.791</td>\n      <td>4.87</td>\n      <td>46.3</td>\n      <td>3.0</td>\n    </tr>\n    <tr>\n      <th>3</th>\n      <td>Afghanistan</td>\n      <td>2020</td>\n      <td>38,972,230</td>\n      <td>10,142,913</td>\n      <td>28,829,317</td>\n      <td>60</td>\n      <td>63.0</td>\n      <td>36.051</td>\n      <td>7.113</td>\n      <td>4.75</td>\n      <td>44.8</td>\n      <td>3.0</td>\n    </tr>\n    <tr>\n      <th>4</th>\n      <td>Afghanistan</td>\n      <td>2021</td>\n      <td>40,099,462</td>\n      <td>10,551,772</td>\n      <td>29,547,690</td>\n      <td>-</td>\n      <td>62.0</td>\n      <td>35.842</td>\n      <td>7.344</td>\n      <td>4.643</td>\n      <td>43.4</td>\n      <td>3.0</td>\n    </tr>\n    <tr>\n      <th>6</th>\n      <td>Albania</td>\n      <td>2018</td>\n      <td>2,866,376</td>\n      <td>1,728,969</td>\n      <td>1,137,407</td>\n      <td>105</td>\n      <td>79.0</td>\n      <td>10.517</td>\n      <td>8.308</td>\n      <td>1.44</td>\n      <td>8.3</td>\n      <td>0.0</td>\n    </tr>\n    <tr>\n      <th>...</th>\n      <td>...</td>\n      <td>...</td>\n      <td>...</td>\n      <td>...</td>\n      <td>...</td>\n      <td>...</td>\n      <td>...</td>\n      <td>...</td>\n      <td>...</td>\n      <td>...</td>\n      <td>...</td>\n      <td>...</td>\n    </tr>\n    <tr>\n      <th>1067</th>\n      <td>Zambia</td>\n      <td>2021</td>\n      <td>19,473,125</td>\n      <td>8,800,295</td>\n      <td>10,672,830</td>\n      <td>-</td>\n      <td>61.0</td>\n      <td>34.511</td>\n      <td>6.973</td>\n      <td>4.308</td>\n      <td>40.2</td>\n      <td>3.0</td>\n    </tr>\n    <tr>\n      <th>1069</th>\n      <td>Zimbabwe</td>\n      <td>2018</td>\n      <td>15,052,184</td>\n      <td>4,848,158</td>\n      <td>10,204,026</td>\n      <td>39</td>\n      <td>61.0</td>\n      <td>32.074</td>\n      <td>7.972</td>\n      <td>3.659</td>\n      <td>38.0</td>\n      <td>2.0</td>\n    </tr>\n    <tr>\n      <th>1070</th>\n      <td>Zimbabwe</td>\n      <td>2019</td>\n      <td>15,354,608</td>\n      <td>4,945,719</td>\n      <td>10,408,889</td>\n      <td>40</td>\n      <td>61.0</td>\n      <td>31.518</td>\n      <td>8.043</td>\n      <td>3.599</td>\n      <td>37.1</td>\n      <td>2.0</td>\n    </tr>\n    <tr>\n      <th>1071</th>\n      <td>Zimbabwe</td>\n      <td>2020</td>\n      <td>15,669,666</td>\n      <td>5,052,214</td>\n      <td>10,617,452</td>\n      <td>41</td>\n      <td>61.0</td>\n      <td>31.009</td>\n      <td>8.132</td>\n      <td>3.545</td>\n      <td>36.6</td>\n      <td>2.0</td>\n    </tr>\n    <tr>\n      <th>1072</th>\n      <td>Zimbabwe</td>\n      <td>2021</td>\n      <td>15,993,524</td>\n      <td>5,166,388</td>\n      <td>10,827,136</td>\n      <td>-</td>\n      <td>59.0</td>\n      <td>30.537</td>\n      <td>9.057</td>\n      <td>3.491</td>\n      <td>35.7</td>\n      <td>2.0</td>\n    </tr>\n  </tbody>\n</table>\n<p>864 rows × 12 columns</p>\n</div>"
     },
     "execution_count": 7,
     "metadata": {},
     "output_type": "execute_result"
    }
   ],
   "source": [
    "df1 = df[df['Total Population'] != '-']\n",
    "df1"
   ]
  },
  {
   "cell_type": "markdown",
   "metadata": {
    "collapsed": false
   },
   "source": [
    "### 2.7 Получите описательную статистику по переменным\n"
   ]
  },
  {
   "cell_type": "code",
   "execution_count": 8,
   "metadata": {
    "collapsed": false
   },
   "outputs": [
    {
     "data": {
      "text/plain": "Country                    Zimbabwe\nYear                           2021\nTotal Population             99,258\nUrban Population         99,876,265\nRural Population            998,397\nPopulation Density               99\nLife Expectancy                85.0\nBirth Rate                   46.127\nDeath Rate                     21.7\nFertility Rate                7.023\nInfant Mortality Rate           9.9\nGrowth Rate                     5.0\ndtype: object"
     },
     "execution_count": 8,
     "metadata": {},
     "output_type": "execute_result"
    }
   ],
   "source": [
    "df1.max()"
   ]
  },
  {
   "cell_type": "code",
   "execution_count": 9,
   "outputs": [
    {
     "data": {
      "text/plain": "              Year  Birth Rate  Death Rate\ncount   864.000000  864.000000  864.000000\nmean   2019.500000   18.548384    7.889123\nstd       1.118682    9.887518    3.041385\nmin    2018.000000    0.000000    0.000000\n25%    2018.750000   10.500000    6.116500\n50%    2019.500000   15.628500    7.453500\n75%    2020.250000   25.565000    9.385000\nmax    2021.000000   46.127000   21.700000",
      "text/html": "<div>\n<style scoped>\n    .dataframe tbody tr th:only-of-type {\n        vertical-align: middle;\n    }\n\n    .dataframe tbody tr th {\n        vertical-align: top;\n    }\n\n    .dataframe thead th {\n        text-align: right;\n    }\n</style>\n<table border=\"1\" class=\"dataframe\">\n  <thead>\n    <tr style=\"text-align: right;\">\n      <th></th>\n      <th>Year</th>\n      <th>Birth Rate</th>\n      <th>Death Rate</th>\n    </tr>\n  </thead>\n  <tbody>\n    <tr>\n      <th>count</th>\n      <td>864.000000</td>\n      <td>864.000000</td>\n      <td>864.000000</td>\n    </tr>\n    <tr>\n      <th>mean</th>\n      <td>2019.500000</td>\n      <td>18.548384</td>\n      <td>7.889123</td>\n    </tr>\n    <tr>\n      <th>std</th>\n      <td>1.118682</td>\n      <td>9.887518</td>\n      <td>3.041385</td>\n    </tr>\n    <tr>\n      <th>min</th>\n      <td>2018.000000</td>\n      <td>0.000000</td>\n      <td>0.000000</td>\n    </tr>\n    <tr>\n      <th>25%</th>\n      <td>2018.750000</td>\n      <td>10.500000</td>\n      <td>6.116500</td>\n    </tr>\n    <tr>\n      <th>50%</th>\n      <td>2019.500000</td>\n      <td>15.628500</td>\n      <td>7.453500</td>\n    </tr>\n    <tr>\n      <th>75%</th>\n      <td>2020.250000</td>\n      <td>25.565000</td>\n      <td>9.385000</td>\n    </tr>\n    <tr>\n      <th>max</th>\n      <td>2021.000000</td>\n      <td>46.127000</td>\n      <td>21.700000</td>\n    </tr>\n  </tbody>\n</table>\n</div>"
     },
     "execution_count": 9,
     "metadata": {},
     "output_type": "execute_result"
    }
   ],
   "source": [
    "df1.describe()"
   ],
   "metadata": {
    "collapsed": false
   }
  },
  {
   "cell_type": "code",
   "execution_count": 10,
   "outputs": [
    {
     "data": {
      "text/plain": "Country                  Afghanistan\nYear                            2018\nTotal Population           1,057,198\nUrban Population                   -\nRural Population                   -\nPopulation Density                 -\nLife Expectancy                    -\nBirth Rate                       0.0\nDeath Rate                       0.0\nFertility Rate                     -\nInfant Mortality Rate              -\nGrowth Rate                     -1.0\ndtype: object"
     },
     "execution_count": 10,
     "metadata": {},
     "output_type": "execute_result"
    }
   ],
   "source": [
    "df1.min()"
   ],
   "metadata": {
    "collapsed": false
   }
  },
  {
   "cell_type": "markdown",
   "metadata": {
    "collapsed": false
   },
   "source": [
    "### 2.8 Выполните сортировку данных по нескольким критериям (например, по Urban Population и Year)\n"
   ]
  },
  {
   "cell_type": "code",
   "execution_count": 22,
   "metadata": {
    "collapsed": false
   },
   "outputs": [
    {
     "data": {
      "text/plain": "                      Country  Year Total Population Urban Population  \\\n696                   Nigeria  2018      198,387,623       99,876,265   \n612                    Mexico  2018      124,013,861       99,404,550   \n300                   Estonia  2021        1,330,932          923,866   \n299                   Estonia  2020        1,329,522          920,415   \n400             Guinea-Bissau  2021        2,060,721          919,432   \n..                        ...   ...              ...              ...   \n905  St. Martin (French Part)  2019           33,121                -   \n504                    Kosovo  2020        1,790,133                -   \n906  St. Martin (French Part)  2020           32,553                -   \n505                    Kosovo  2021        1,786,038                -   \n907  St. Martin (French Part)  2021           31,948                -   \n\n    Rural Population Population Density Life Expectancy  Birth Rate  \\\n696       98,511,358                218            53.0      38.248   \n612       24,609,311                 64            74.0      16.465   \n300          407,066                  -            77.0      10.000   \n299          409,107                 31            79.0       9.900   \n400        1,141,289                  -            60.0      31.087   \n..               ...                ...             ...         ...   \n905                -                662            80.0      16.483   \n504                -                  -            77.0      11.181   \n906                -                651            80.0      15.768   \n505                -                  -            77.0      11.143   \n907                -                  -            80.0      15.053   \n\n     Death Rate Fertility Rate Infant Mortality Rate Growth Rate  \n696      13.239          5.447                  75.5         2.0  \n612       6.856          1.996                  12.6         1.0  \n300      14.000           1.61                   1.6         0.0  \n299      11.900           1.58                   1.7         0.0  \n400       8.716          4.005                  50.0         2.0  \n..          ...            ...                   ...         ...  \n905       4.661          2.485                     -        -2.0  \n504       7.505          1.529                   9.6         0.0  \n906       4.788          2.448                     -        -2.0  \n505       7.220          1.522                   9.1         0.0  \n907       4.911          2.415                     -        -2.0  \n\n[864 rows x 12 columns]",
      "text/html": "<div>\n<style scoped>\n    .dataframe tbody tr th:only-of-type {\n        vertical-align: middle;\n    }\n\n    .dataframe tbody tr th {\n        vertical-align: top;\n    }\n\n    .dataframe thead th {\n        text-align: right;\n    }\n</style>\n<table border=\"1\" class=\"dataframe\">\n  <thead>\n    <tr style=\"text-align: right;\">\n      <th></th>\n      <th>Country</th>\n      <th>Year</th>\n      <th>Total Population</th>\n      <th>Urban Population</th>\n      <th>Rural Population</th>\n      <th>Population Density</th>\n      <th>Life Expectancy</th>\n      <th>Birth Rate</th>\n      <th>Death Rate</th>\n      <th>Fertility Rate</th>\n      <th>Infant Mortality Rate</th>\n      <th>Growth Rate</th>\n    </tr>\n  </thead>\n  <tbody>\n    <tr>\n      <th>696</th>\n      <td>Nigeria</td>\n      <td>2018</td>\n      <td>198,387,623</td>\n      <td>99,876,265</td>\n      <td>98,511,358</td>\n      <td>218</td>\n      <td>53.0</td>\n      <td>38.248</td>\n      <td>13.239</td>\n      <td>5.447</td>\n      <td>75.5</td>\n      <td>2.0</td>\n    </tr>\n    <tr>\n      <th>612</th>\n      <td>Mexico</td>\n      <td>2018</td>\n      <td>124,013,861</td>\n      <td>99,404,550</td>\n      <td>24,609,311</td>\n      <td>64</td>\n      <td>74.0</td>\n      <td>16.465</td>\n      <td>6.856</td>\n      <td>1.996</td>\n      <td>12.6</td>\n      <td>1.0</td>\n    </tr>\n    <tr>\n      <th>300</th>\n      <td>Estonia</td>\n      <td>2021</td>\n      <td>1,330,932</td>\n      <td>923,866</td>\n      <td>407,066</td>\n      <td>-</td>\n      <td>77.0</td>\n      <td>10.000</td>\n      <td>14.000</td>\n      <td>1.61</td>\n      <td>1.6</td>\n      <td>0.0</td>\n    </tr>\n    <tr>\n      <th>299</th>\n      <td>Estonia</td>\n      <td>2020</td>\n      <td>1,329,522</td>\n      <td>920,415</td>\n      <td>409,107</td>\n      <td>31</td>\n      <td>79.0</td>\n      <td>9.900</td>\n      <td>11.900</td>\n      <td>1.58</td>\n      <td>1.7</td>\n      <td>0.0</td>\n    </tr>\n    <tr>\n      <th>400</th>\n      <td>Guinea-Bissau</td>\n      <td>2021</td>\n      <td>2,060,721</td>\n      <td>919,432</td>\n      <td>1,141,289</td>\n      <td>-</td>\n      <td>60.0</td>\n      <td>31.087</td>\n      <td>8.716</td>\n      <td>4.005</td>\n      <td>50.0</td>\n      <td>2.0</td>\n    </tr>\n    <tr>\n      <th>...</th>\n      <td>...</td>\n      <td>...</td>\n      <td>...</td>\n      <td>...</td>\n      <td>...</td>\n      <td>...</td>\n      <td>...</td>\n      <td>...</td>\n      <td>...</td>\n      <td>...</td>\n      <td>...</td>\n      <td>...</td>\n    </tr>\n    <tr>\n      <th>905</th>\n      <td>St. Martin (French Part)</td>\n      <td>2019</td>\n      <td>33,121</td>\n      <td>-</td>\n      <td>-</td>\n      <td>662</td>\n      <td>80.0</td>\n      <td>16.483</td>\n      <td>4.661</td>\n      <td>2.485</td>\n      <td>-</td>\n      <td>-2.0</td>\n    </tr>\n    <tr>\n      <th>504</th>\n      <td>Kosovo</td>\n      <td>2020</td>\n      <td>1,790,133</td>\n      <td>-</td>\n      <td>-</td>\n      <td>-</td>\n      <td>77.0</td>\n      <td>11.181</td>\n      <td>7.505</td>\n      <td>1.529</td>\n      <td>9.6</td>\n      <td>0.0</td>\n    </tr>\n    <tr>\n      <th>906</th>\n      <td>St. Martin (French Part)</td>\n      <td>2020</td>\n      <td>32,553</td>\n      <td>-</td>\n      <td>-</td>\n      <td>651</td>\n      <td>80.0</td>\n      <td>15.768</td>\n      <td>4.788</td>\n      <td>2.448</td>\n      <td>-</td>\n      <td>-2.0</td>\n    </tr>\n    <tr>\n      <th>505</th>\n      <td>Kosovo</td>\n      <td>2021</td>\n      <td>1,786,038</td>\n      <td>-</td>\n      <td>-</td>\n      <td>-</td>\n      <td>77.0</td>\n      <td>11.143</td>\n      <td>7.220</td>\n      <td>1.522</td>\n      <td>9.1</td>\n      <td>0.0</td>\n    </tr>\n    <tr>\n      <th>907</th>\n      <td>St. Martin (French Part)</td>\n      <td>2021</td>\n      <td>31,948</td>\n      <td>-</td>\n      <td>-</td>\n      <td>-</td>\n      <td>80.0</td>\n      <td>15.053</td>\n      <td>4.911</td>\n      <td>2.415</td>\n      <td>-</td>\n      <td>-2.0</td>\n    </tr>\n  </tbody>\n</table>\n<p>864 rows × 12 columns</p>\n</div>"
     },
     "execution_count": 22,
     "metadata": {},
     "output_type": "execute_result"
    }
   ],
   "source": [
    "df1 = df1.sort_values(by=['Urban Population', 'Year'], ascending=[False, True])\n",
    "df1"
   ]
  },
  {
   "cell_type": "markdown",
   "source": [
    "### 2.9 Выведите название страны, которая имеет максимальную численность населения\n"
   ],
   "metadata": {
    "collapsed": false
   }
  },
  {
   "cell_type": "code",
   "execution_count": null,
   "outputs": [],
   "source": [
    "max_population_index = df1['Total Population'].idxmax()\n",
    "country_with_max_population = df1.loc[max_population_index,'Country']\n",
    "country_with_max_population"
   ],
   "metadata": {
    "collapsed": false,
    "pycharm": {
     "is_executing": true
    }
   }
  },
  {
   "cell_type": "markdown",
   "source": [
    "### 2.10 Выведите название страны, которая имеет максимальную численность населения"
   ],
   "metadata": {
    "collapsed": false
   }
  },
  {
   "cell_type": "code",
   "execution_count": null,
   "outputs": [],
   "source": [
    "min_population_index = df1['Total Population'].idxmin()\n",
    "country_with_min_population = df1.loc[min_population_index,'Country']\n",
    "country_with_min_population"
   ],
   "metadata": {
    "collapsed": false,
    "pycharm": {
     "is_executing": true
    }
   }
  },
  {
   "cell_type": "markdown",
   "metadata": {
    "collapsed": false
   },
   "source": [
    "### 2.9 Экспорт фрейма в MS Excel"
   ]
  },
  {
   "cell_type": "code",
   "execution_count": 24,
   "metadata": {
    "collapsed": false
   },
   "outputs": [
    {
     "name": "stdout",
     "output_type": "stream",
     "text": [
      "\n",
      "Данные были обработаны и экспортированы в 'population_trends.xlsx'.\n"
     ]
    }
   ],
   "source": [
    "df1.to_excel(\"population_trends.xlsx\", index=False)\n",
    "print(\"\\nДанные были обработаны и экспортированы в 'population_trends.xlsx'.\")"
   ]
  },
  {
   "cell_type": "markdown",
   "metadata": {
    "collapsed": false
   },
   "source": []
  }
 ],
 "metadata": {
  "kernelspec": {
   "display_name": "Python 3",
   "language": "python",
   "name": "python3"
  },
  "language_info": {
   "codemirror_mode": {
    "name": "ipython",
    "version": 2
   },
   "file_extension": ".py",
   "mimetype": "text/x-python",
   "name": "python",
   "nbconvert_exporter": "python",
   "pygments_lexer": "ipython2",
   "version": "2.7.6"
  }
 },
 "nbformat": 4,
 "nbformat_minor": 0
}
